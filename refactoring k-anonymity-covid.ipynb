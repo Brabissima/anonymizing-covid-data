{
 "cells": [
  {
   "cell_type": "code",
   "execution_count": 165,
   "id": "4cbb883b",
   "metadata": {},
   "outputs": [],
   "source": [
    "import pandas as pd\n",
    "import numpy as np\n",
    "import itertools\n",
    "import random\n",
    "import math\n",
    "from collections import defaultdict\n",
    "from collections import Counter\n",
    "from scipy.spatial.distance import euclidean"
   ]
  },
  {
   "cell_type": "code",
   "execution_count": 166,
   "id": "b70672a3",
   "metadata": {},
   "outputs": [
    {
     "name": "stderr",
     "output_type": "stream",
     "text": [
      "C:\\Users\\Malu\\anaconda3\\lib\\site-packages\\IPython\\core\\interactiveshell.py:3165: DtypeWarning: Columns (5,6,7,8,9,15,20,27,28,29,30,31,32,33,34,35,36,37,38,39,40,41,42,43,44,50,51,52,53,54,55,56,58,59,60,61) have mixed types.Specify dtype option on import or set low_memory=False.\n",
      "  has_raised = await self.run_ast_nodes(code_ast.body, cell_name,\n"
     ]
    },
    {
     "data": {
      "text/html": [
       "<div>\n",
       "<style scoped>\n",
       "    .dataframe tbody tr th:only-of-type {\n",
       "        vertical-align: middle;\n",
       "    }\n",
       "\n",
       "    .dataframe tbody tr th {\n",
       "        vertical-align: top;\n",
       "    }\n",
       "\n",
       "    .dataframe thead th {\n",
       "        text-align: right;\n",
       "    }\n",
       "</style>\n",
       "<table border=\"1\" class=\"dataframe\">\n",
       "  <thead>\n",
       "    <tr style=\"text-align: right;\">\n",
       "      <th></th>\n",
       "      <th>municipioCaso</th>\n",
       "      <th>sexoCaso</th>\n",
       "      <th>idadeCaso</th>\n",
       "      <th>resultadoFinalExame</th>\n",
       "    </tr>\n",
       "  </thead>\n",
       "  <tbody>\n",
       "    <tr>\n",
       "      <th>0</th>\n",
       "      <td>SOBRAL</td>\n",
       "      <td>MASCULINO</td>\n",
       "      <td>17.0</td>\n",
       "      <td>Negativo</td>\n",
       "    </tr>\n",
       "    <tr>\n",
       "      <th>1</th>\n",
       "      <td>PACAJUS</td>\n",
       "      <td>MASCULINO</td>\n",
       "      <td>37.0</td>\n",
       "      <td>Negativo</td>\n",
       "    </tr>\n",
       "    <tr>\n",
       "      <th>2</th>\n",
       "      <td>FORTALEZA</td>\n",
       "      <td>MASCULINO</td>\n",
       "      <td>28.0</td>\n",
       "      <td>Negativo</td>\n",
       "    </tr>\n",
       "    <tr>\n",
       "      <th>3</th>\n",
       "      <td>CAUCAIA</td>\n",
       "      <td>MASCULINO</td>\n",
       "      <td>50.0</td>\n",
       "      <td>Negativo</td>\n",
       "    </tr>\n",
       "    <tr>\n",
       "      <th>4</th>\n",
       "      <td>FORTALEZA</td>\n",
       "      <td>FEMININO</td>\n",
       "      <td>81.0</td>\n",
       "      <td>Negativo</td>\n",
       "    </tr>\n",
       "    <tr>\n",
       "      <th>...</th>\n",
       "      <td>...</td>\n",
       "      <td>...</td>\n",
       "      <td>...</td>\n",
       "      <td>...</td>\n",
       "    </tr>\n",
       "    <tr>\n",
       "      <th>855798</th>\n",
       "      <td>FORTALEZA</td>\n",
       "      <td>MASCULINO</td>\n",
       "      <td>33.0</td>\n",
       "      <td>Negativo</td>\n",
       "    </tr>\n",
       "    <tr>\n",
       "      <th>855799</th>\n",
       "      <td>SOBRAL</td>\n",
       "      <td>FEMININO</td>\n",
       "      <td>34.0</td>\n",
       "      <td>Negativo</td>\n",
       "    </tr>\n",
       "    <tr>\n",
       "      <th>855800</th>\n",
       "      <td>COREAU</td>\n",
       "      <td>MASCULINO</td>\n",
       "      <td>83.0</td>\n",
       "      <td>Negativo</td>\n",
       "    </tr>\n",
       "    <tr>\n",
       "      <th>855801</th>\n",
       "      <td>SOBRAL</td>\n",
       "      <td>FEMININO</td>\n",
       "      <td>41.0</td>\n",
       "      <td>Negativo</td>\n",
       "    </tr>\n",
       "    <tr>\n",
       "      <th>855802</th>\n",
       "      <td>TIANGUA</td>\n",
       "      <td>FEMININO</td>\n",
       "      <td>60.0</td>\n",
       "      <td>Negativo</td>\n",
       "    </tr>\n",
       "  </tbody>\n",
       "</table>\n",
       "<p>825667 rows × 4 columns</p>\n",
       "</div>"
      ],
      "text/plain": [
       "       municipioCaso   sexoCaso  idadeCaso resultadoFinalExame\n",
       "0             SOBRAL  MASCULINO       17.0            Negativo\n",
       "1            PACAJUS  MASCULINO       37.0            Negativo\n",
       "2          FORTALEZA  MASCULINO       28.0            Negativo\n",
       "3            CAUCAIA  MASCULINO       50.0            Negativo\n",
       "4          FORTALEZA   FEMININO       81.0            Negativo\n",
       "...              ...        ...        ...                 ...\n",
       "855798     FORTALEZA  MASCULINO       33.0            Negativo\n",
       "855799        SOBRAL   FEMININO       34.0            Negativo\n",
       "855800        COREAU  MASCULINO       83.0            Negativo\n",
       "855801        SOBRAL   FEMININO       41.0            Negativo\n",
       "855802       TIANGUA   FEMININO       60.0            Negativo\n",
       "\n",
       "[825667 rows x 4 columns]"
      ]
     },
     "execution_count": 166,
     "metadata": {},
     "output_type": "execute_result"
    }
   ],
   "source": [
    "df = pd.read_csv('covid_cleaning_2501_2v.csv')\n",
    "df = df[['municipioCaso', 'sexoCaso', 'idadeCaso', 'resultadoFinalExame']]\n",
    "df = df.dropna()\n",
    "df"
   ]
  },
  {
   "cell_type": "code",
   "execution_count": 167,
   "id": "070ac5ca",
   "metadata": {},
   "outputs": [],
   "source": [
    "#df = df.iloc[:1000]"
   ]
  },
  {
   "cell_type": "code",
   "execution_count": 168,
   "id": "a452a81d",
   "metadata": {},
   "outputs": [],
   "source": [
    "ordem = {\n",
    "    ('municipioCaso', 'SOBRAL', 3, 330): len(df.query('municipioCaso == \"SOBRAL\"')),#('municipioCaso', 'SOBRAL', 10, 330): len(df.query('municipioCaso == \"SOBRAL\"')),\n",
    "    ('idadeCaso', 25.0, 3, 560): len(df.query('idadeCaso == 25.0'))#('idadeCaso', 25.0, 10, 560): len(df.query('idadeCaso == 25.0'))\n",
    "}\n",
    "constraints = sorted(ordem, key = ordem.get)"
   ]
  },
  {
   "cell_type": "code",
   "execution_count": 169,
   "id": "5cf79965",
   "metadata": {},
   "outputs": [],
   "source": [
    "def combinations_attr(dataset):\n",
    "    qi_attr = list(dataset.columns[:-1])\n",
    "    comb = []\n",
    "    for i in range(len(qi_attr), 0, -1):\n",
    "        comb.append(list(itertools.combinations(qi_attr, i)))\n",
    "    comb = list(itertools.chain.from_iterable(comb))\n",
    "    comb = list(map(list, comb))\n",
    "    return comb"
   ]
  },
  {
   "cell_type": "code",
   "execution_count": 170,
   "id": "f602fb27",
   "metadata": {},
   "outputs": [],
   "source": [
    "def include_in_nearest_cluster(tup, groups, dataset): #dataset anonimizado = new dataset\n",
    "    min_distance = math.inf\n",
    "    for key, value in zip(groups.keys(), groups.values()):\n",
    "        if(len(tup[:-1].compare(dataset[dataset.columns[:-1]].loc[value[0][0]])) < min_distance):\n",
    "            min_distance = len(tup[:-1].compare(dataset[dataset.columns[:-1]].loc[value[0][0]]))\n",
    "            nearest_cluster = list(itertools.chain.from_iterable(groups[key]))\n",
    "    \n",
    "    for value in nearest_cluster:\n",
    "        for attr in (tup[:-1].compare(dataset[dataset.columns[:-1]].loc[value])).index:\n",
    "            if(tup[attr] != dataset[attr].loc[value]):\n",
    "                tup[attr] = '*'\n",
    "                dataset[attr].loc[value] = '*'\n",
    "                dataset.loc[tup.name] = tup\n",
    "    \n",
    "    return dataset        "
   ]
  },
  {
   "cell_type": "code",
   "execution_count": 171,
   "id": "58067e1e",
   "metadata": {},
   "outputs": [],
   "source": [
    "def placeholding(diff_attr, new_df, value):\n",
    "    if(len(diff_attr) == 0):\n",
    "        return new_df\n",
    "    \n",
    "    for diff in diff_attr:\n",
    "        new_df[diff].loc[value] = \"*\"\n",
    "    \n",
    "    return new_df"
   ]
  },
  {
   "cell_type": "code",
   "execution_count": 172,
   "id": "3d39ce9c",
   "metadata": {},
   "outputs": [],
   "source": [
    "def anonymize(dataset, k, constraints):\n",
    "    new_df = pd.DataFrame(columns = dataset.columns)\n",
    "    clusters = defaultdict(list)\n",
    "    \n",
    "    #grouping by constraints\n",
    "    for constraint in constraints:\n",
    "        grouped = False\n",
    "        \n",
    "        if(type(constraint[1]) == (float or int)):\n",
    "            c = dataset.query('{} == {}'.format(constraint[0],constraint[1]))\n",
    "        else:\n",
    "            c = dataset.query('{} == \"{}\"'.format(constraint[0],constraint[1]))\n",
    "\n",
    "        for comb in combinations_attr(c):\n",
    "            group = c.groupby(comb).groups\n",
    "            if(grouped):\n",
    "                break\n",
    "            \n",
    "            for key,v in zip(group.keys(), group.values()):\n",
    "                if(grouped):\n",
    "                    c[constraint[0]] = c[constraint[0]].replace({'{}'.format(constraint[1]):'*'})\n",
    "                    dataset[constraint[0]] = dataset[constraint[0]].replace({'{}'.format(constraint[1]):'*'})\n",
    "                    break\n",
    "\n",
    "                aux = max(k, constraint[2])\n",
    "                if(len(v.values) >= aux and len(v.values) <= constraint[3]):\n",
    "                    #clusters[key].append(v.values.tolist())\n",
    "                    for j in range(len(v.values)):\n",
    "                        new_df.loc[v.values[j]] = list(c.loc[v.values[j]])\n",
    "                        dataset = dataset.drop(v.values[j])\n",
    "                        c = c.drop(v.values[j])\n",
    "                        diff_attr = list(dataset.columns[:-1].symmetric_difference(comb))\n",
    "                        new_df = placeholding(diff_attr, new_df, v.values[j])\n",
    "                        grouped = True\n",
    "            \n",
    "\n",
    "    #grouping remaining tuples\n",
    "    for comb in combinations_attr(dataset):\n",
    "        group = dataset.groupby(comb).groups\n",
    "        for key,v in zip(group.keys(), group.values()):\n",
    "            if(len(v.values) >= k):\n",
    "                clusters[key].append(v.values.tolist())\n",
    "                for j in range(len(v.values)):\n",
    "                    new_df.loc[v.values[j]] = list(dataset.loc[v.values[j]])\n",
    "                    dataset = dataset.drop(v.values[j])\n",
    "                    diff_attr = list(dataset.columns[:-1].symmetric_difference(comb))\n",
    "                    new_df = placeholding(diff_attr, new_df, v.values[j])\n",
    "\n",
    "    if(len(dataset) != 0):\n",
    "        for i in range(len(dataset)):\n",
    "            include_in_nearest_cluster(dataset.iloc[i], clusters, new_df)\n",
    "\n",
    "    return new_df"
   ]
  },
  {
   "cell_type": "code",
   "execution_count": 173,
   "id": "b1a93dc3",
   "metadata": {},
   "outputs": [],
   "source": [
    "#df_anon = anonymize(df, 4, constraints)\n",
    "#df_anon = df_anon.sort_index(axis=0)"
   ]
  },
  {
   "cell_type": "code",
   "execution_count": 174,
   "id": "7bf924f6",
   "metadata": {},
   "outputs": [],
   "source": [
    "#df_anon"
   ]
  },
  {
   "cell_type": "code",
   "execution_count": 175,
   "id": "322efe6d",
   "metadata": {},
   "outputs": [],
   "source": [
    "def l_diversity(dataset, l, label): \n",
    "    count_labels = Counter(dataset[label])\n",
    "    ec_values = list(dataset.groupby(list(dataset.columns[:-1])).count().index)\n",
    "\n",
    "    #para que a idade seja no mesmo formato que \"*\", vamos transformá-la em string\n",
    "    dataset['idadeCaso'] = dataset['idadeCaso'].astype(str)\n",
    "\n",
    "    for values in ec_values:\n",
    "        equivalence_class = dataset.query('municipioCaso == \"{}\" & sexoCaso  == \"{}\" & idadeCaso == \"{}\"'.format(values[0], values[1], values[2]))\n",
    "\n",
    "        if(len(np.unique(equivalence_class[label])) < l):\n",
    "            while(len(np.unique(equivalence_class[label])) < l):\n",
    "                new_labels = random.choices(list(count_labels.keys()), weights=count_labels.values(), k=len(equivalence_class))\n",
    "                equivalence_class[label] = new_labels\n",
    "        for i in equivalence_class.index:\n",
    "            dataset[label].loc[i] = equivalence_class[label].loc[i]\n",
    "    return dataset"
   ]
  },
  {
   "cell_type": "code",
   "execution_count": 176,
   "id": "1312ddf8",
   "metadata": {},
   "outputs": [],
   "source": [
    "#df_anon = l_diversity(df_anon, 3, 'resultadoFinalExame')"
   ]
  },
  {
   "cell_type": "code",
   "execution_count": 177,
   "id": "1e5a2742",
   "metadata": {},
   "outputs": [],
   "source": [
    "#df_anon"
   ]
  },
  {
   "cell_type": "code",
   "execution_count": 178,
   "id": "2f7bd111",
   "metadata": {},
   "outputs": [],
   "source": [
    "def accuracy(dataset, dataset_anon):\n",
    "    dataset['idadeCaso'] = dataset['idadeCaso'].astype(str)\n",
    "    comp = (dataset == dataset_anon)\n",
    "    aux_accuracy = comp.describe()\n",
    "\n",
    "    equal_values = 0\n",
    "    \n",
    "    #count True values to divide it per number of cells\n",
    "    for col in comp.columns:\n",
    "        if(aux_accuracy[col].loc['top'] == True):\n",
    "            equal_values += aux_accuracy[col].loc['freq']\n",
    "        else:\n",
    "            equal_values += aux_accuracy[col].loc['count'] - aux_accuracy[col].loc['freq'] #if false, we have to get the complementar\n",
    "\n",
    "    return equal_values/(len(dataset.columns)*len(dataset))"
   ]
  },
  {
   "cell_type": "markdown",
   "id": "f8c8ffd9",
   "metadata": {},
   "source": [
    "# Evaluating approach"
   ]
  },
  {
   "cell_type": "code",
   "execution_count": 186,
   "id": "3920a164",
   "metadata": {},
   "outputs": [],
   "source": [
    "import warnings\n",
    "warnings.filterwarnings('ignore')"
   ]
  },
  {
   "cell_type": "code",
   "execution_count": 187,
   "id": "71a2bb67",
   "metadata": {},
   "outputs": [
    {
     "name": "stdout",
     "output_type": "stream",
     "text": [
      "\n",
      " number of tuples: 5000\n",
      " k: [5, 10, 15, 25, 30]\n",
      " accuracy: [0.7271, 0.70055, 0.67645, 0.65625, 0.64485]\n",
      "\n",
      "\n",
      " number of tuples: 10000\n",
      " k: [5, 10, 15, 25, 30]\n",
      " accuracy: [0.7279, 0.708075, 0.6942, 0.68265, 0.68]\n",
      "\n",
      "\n",
      " number of tuples: 15000\n",
      " k: [5, 10, 15, 25, 30]\n",
      " accuracy: [0.7422, 0.7161, 0.7038666666666666, 0.6949833333333333, 0.6880333333333334]\n",
      "\n",
      "\n",
      " number of tuples: 20000\n",
      " k: [5, 10, 15, 25, 30]\n",
      " accuracy: [0.7527, 0.723825, 0.7126125, 0.7001625, 0.695475]\n",
      "\n",
      "\n",
      " number of tuples: 25000\n",
      " k: [5, 10, 15, 25, 30]\n",
      " accuracy: [0.76522, 0.73248, 0.71875, 0.70708, 0.70224]\n",
      "\n"
     ]
    }
   ],
   "source": [
    "n_tuples = [5000, 10000, 15000, 20000, 25000]\n",
    "k_values = [5, 10, 15, 25, 30]\n",
    "\n",
    "acc = []\n",
    "\n",
    "for t in n_tuples:\n",
    "    ac_k = []\n",
    "    for k in k_values:\n",
    "        df_anon = anonymize(df[:t], k, constraints) #k-anonymity\n",
    "        df_anon = df_anon.sort_index(axis=0)        #k-anonymity  \n",
    "        df_anon = l_diversity(df_anon, 3, 'resultadoFinalExame') #l-diversity\n",
    "        ac = accuracy(df[:t], df_anon)\n",
    "        ac_k.append(ac)\n",
    "    print(\"\\n number of tuples: {}\\n k: {}\\n accuracy: {}\\n\".format(t, k_values, ac_k))\n",
    "    acc.append(ac_k)"
   ]
  },
  {
   "cell_type": "code",
   "execution_count": 197,
   "id": "6e2c836b",
   "metadata": {},
   "outputs": [
    {
     "data": {
      "text/plain": [
       "[[0.7271, 0.70055, 0.67645, 0.65625, 0.64485],\n",
       " [0.7279, 0.708075, 0.6942, 0.68265, 0.68],\n",
       " [0.7422, 0.7161, 0.7038666666666666, 0.6949833333333333, 0.6880333333333334],\n",
       " [0.7527, 0.723825, 0.7126125, 0.7001625, 0.695475],\n",
       " [0.76522, 0.73248, 0.71875, 0.70708, 0.70224]]"
      ]
     },
     "execution_count": 197,
     "metadata": {},
     "output_type": "execute_result"
    }
   ],
   "source": [
    "acc"
   ]
  },
  {
   "cell_type": "code",
   "execution_count": 198,
   "id": "ab2e6128",
   "metadata": {},
   "outputs": [],
   "source": [
    "acc = np.array(acc).transpose()"
   ]
  },
  {
   "cell_type": "markdown",
   "id": "a70bb989",
   "metadata": {},
   "source": [
    "# Graphics"
   ]
  },
  {
   "cell_type": "code",
   "execution_count": 200,
   "id": "4b5afd23",
   "metadata": {},
   "outputs": [],
   "source": [
    "import matplotlib.pyplot as plt"
   ]
  },
  {
   "cell_type": "code",
   "execution_count": 222,
   "id": "78ae475f",
   "metadata": {},
   "outputs": [
    {
     "data": {
      "image/png": "[encoded data removed]",
      "text/plain": [
       "<Figure size 432x288 with 1 Axes>"
      ]
     },
     "metadata": {
      "needs_background": "light"
     },
     "output_type": "display_data"
    }
   ],
   "source": [
    "x = n_tuples\n",
    "\n",
    "y0 = acc[0]\n",
    "y1 = acc[1]\n",
    "y2 = acc[2]\n",
    "y3 = acc[3]\n",
    "y4 = acc[4]\n",
    "\n",
    "plt.plot(x, y0, label='k = {}'.format(k_values[0]))\n",
    "plt.plot(x, y1, label=\"k = {}\".format(k_values[1]))\n",
    "plt.plot(x, y2, label=\"k = {}\".format(k_values[2]))\n",
    "plt.plot(x, y3, label=\"k = {}\".format(k_values[3]))\n",
    "plt.plot(x, y4, label=\"k = {}\".format(k_values[4]))\n",
    "plt.ylim(ymax=.8, ymin=.6)\n",
    "\n",
    "plt.title('accuracy vs. |D| for each k value',fontsize=15)\n",
    "plt.xlabel('|D|', fontsize=13)\n",
    "plt.ylabel('accuracy', fontsize=13)\n",
    "plt.legend()\n",
    "plt.savefig('accuracy.png',format='png', dpi=320)\n",
    "plt.show()"
   ]
  },
  {
   "cell_type": "code",
   "execution_count": 223,
   "id": "682755d0",
   "metadata": {},
   "outputs": [
    {
     "name": "stdout",
     "output_type": "stream",
     "text": [
      "\n",
      " number of tuples: 60000\n",
      " k: [10, 20, 30, 40, 50]\n",
      " accuracy: [0.7792541666666667, 0.7441958333333333, 0.7312083333333333, 0.7243375, 0.7183833333333334]\n",
      "\n",
      "\n",
      " number of tuples: 120000\n",
      " k: [10, 20, 30, 40, 50]\n",
      " accuracy: [0.8215270833333334, 0.77750625, 0.7576458333333334, 0.7471375, 0.7410104166666667]\n",
      "\n",
      "\n",
      " number of tuples: 180000\n",
      " k: [10, 20, 30, 40, 50]\n",
      " accuracy: [0.8547958333333333, 0.8130361111111111, 0.7885333333333333, 0.7773416666666667, 0.7657680555555556]\n",
      "\n",
      "\n",
      " number of tuples: 240000\n",
      " k: [10, 20, 30, 40, 50]\n",
      " accuracy: [0.88159375, 0.8424697916666667, 0.8192375, 0.8037677083333333, 0.79388125]\n",
      "\n",
      "\n",
      " number of tuples: 300000\n",
      " k: [10, 20, 30, 40, 50]\n",
      " accuracy: [0.8983866666666667, 0.8627775, 0.8400566666666667, 0.8230241666666667, 0.8125783333333333]\n",
      "\n"
     ]
    }
   ],
   "source": [
    "n_tuples = [60000, 120000, 180000, 240000, 300000]\n",
    "k_values = [10, 20, 30, 40, 50]\n",
    "\n",
    "acc = []\n",
    "\n",
    "for t in n_tuples:\n",
    "    ac_k = []\n",
    "    for k in k_values:\n",
    "        df_anon = anonymize(df[:t], k, constraints) #k-anonymity\n",
    "        df_anon = df_anon.sort_index(axis=0)        #k-anonymity  \n",
    "        df_anon = l_diversity(df_anon, 3, 'resultadoFinalExame') #l-diversity\n",
    "        ac = accuracy(df[:t], df_anon)\n",
    "        ac_k.append(ac)\n",
    "    print(\"\\n number of tuples: {}\\n k: {}\\n accuracy: {}\\n\".format(t, k_values, ac_k))\n",
    "    acc.append(ac_k)"
   ]
  },
  {
   "cell_type": "code",
   "execution_count": 229,
   "id": "dec06c9b",
   "metadata": {},
   "outputs": [
    {
     "data": {
      "text/plain": [
       "array([[0.77925417, 0.82152708, 0.85479583, 0.88159375, 0.89838667],\n",
       "       [0.74419583, 0.77750625, 0.81303611, 0.84246979, 0.8627775 ],\n",
       "       [0.73120833, 0.75764583, 0.78853333, 0.8192375 , 0.84005667],\n",
       "       [0.7243375 , 0.7471375 , 0.77734167, 0.80376771, 0.82302417],\n",
       "       [0.71838333, 0.74101042, 0.76576806, 0.79388125, 0.81257833]])"
      ]
     },
     "execution_count": 229,
     "metadata": {},
     "output_type": "execute_result"
    }
   ],
   "source": [
    "acc.transpose()"
   ]
  },
  {
   "cell_type": "code",
   "execution_count": 240,
   "id": "fef0c6f5",
   "metadata": {},
   "outputs": [
    {
     "data": {
      "image/png": "[encoded data removed]",
      "text/plain": [
       "<Figure size 432x288 with 1 Axes>"
      ]
     },
     "metadata": {
      "needs_background": "light"
     },
     "output_type": "display_data"
    }
   ],
   "source": [
    "from matplotlib.font_manager import FontProperties\n",
    "\n",
    "acc = np.array(acc).transpose()\n",
    "\n",
    "x = n_tuples\n",
    "\n",
    "y0 = acc[0]\n",
    "y1 = acc[1]\n",
    "y2 = acc[2]\n",
    "y3 = acc[3]\n",
    "y4 = acc[4]\n",
    "\n",
    "plt.plot(x, y0, label='k = {}'.format(k_values[0]))\n",
    "plt.plot(x, y1, label=\"k = {}\".format(k_values[1]))\n",
    "plt.plot(x, y2, label=\"k = {}\".format(k_values[2]))\n",
    "plt.plot(x, y3, label=\"k = {}\".format(k_values[3]))\n",
    "plt.plot(x, y4, label=\"k = {}\".format(k_values[4]))\n",
    "plt.ylim(ymax=1, ymin=.5)\n",
    "\n",
    "plt.title('accuracy vs. |D| for each k value',fontsize=15)\n",
    "plt.xlabel('|D|', fontsize=13)\n",
    "plt.ylabel('accuracy', fontsize=13)\n",
    "\n",
    "plt.legend(loc=4)\n",
    "plt.savefig('accuracy.png',format='png', dpi=320)\n",
    "plt.show()"
   ]
  },
  {
   "cell_type": "markdown",
   "id": "728abead",
   "metadata": {},
   "source": [
    "# Evaluating approach: varying len(constraints) and k"
   ]
  },
  {
   "cell_type": "code",
   "execution_count": null,
   "id": "6b1a747a",
   "metadata": {},
   "outputs": [
    {
     "name": "stdout",
     "output_type": "stream",
     "text": [
      "\t - c = 2, k=2, ac = 0.8583\n",
      "\n",
      "\t - c = 2, k=4, ac = 0.8101\n",
      "\n"
     ]
    }
   ],
   "source": [
    "warnings.filterwarnings('ignore')\n",
    "\n",
    "df_ = df.iloc[:5000]\n",
    "ordem = {\n",
    "    ('municipioCaso', 'SOBRAL', 3, 147): len(df_.query('municipioCaso == \"SOBRAL\"')), #50\n",
    "    ('idadeCaso', 25.0, 3, 123): len(df_.query('idadeCaso == 25.0')), \n",
    "    ('municipioCaso', 'CAUCAIA', 3, 98): len(df_.query('municipioCaso == \"CAUCAIA\"')),\n",
    "    ('sexoCaso', 'FEMININO', 3, 5321): len(df_.query('sexoCaso == \"FEMININO\"'))\n",
    "}\n",
    "constraints = sorted(ordem, key = ordem.get)\n",
    "\n",
    "n_constraints = [2, 3, 4]\n",
    "k_values = [2, 4, 6, 8, 10]\n",
    "\n",
    "accuracy_fixed_D = []\n",
    "\n",
    "for c in n_constraints:\n",
    "    ac_c = []\n",
    "    for k in k_values:\n",
    "        df_anon_c = anonymize(df_, k, constraints[:c])\n",
    "        df_anon_c = df_anon_c.sort_index(axis=0)\n",
    "        df_anon_c = l_diversity(df_anon_c, 2, 'resultadoFinalExame')\n",
    "        a = accuracy(df_, df_anon_c)\n",
    "        print(\"\\t - c = {}, k={}, ac = {}\\n\".format(c, k, a))\n",
    "        ac_c.append(a)\n",
    "    print(\"number of constraints: {}\\n k: {}\\n accuracy: {}\\n\\n\".format(c, k, ac_c))\n",
    "    accuracy_fixed_D.append(ac_c)"
   ]
  },
  {
   "cell_type": "code",
   "execution_count": null,
   "id": "dfe6b60f",
   "metadata": {},
   "outputs": [],
   "source": [
    "accuracy_fixed_D = np.array(accuracy_fixed_D).transpose()\n",
    "x = k_values\n",
    "\n",
    "y0 = accuracy_fixed_D[0]\n",
    "y1 = accuracy_fixed_D[1]\n",
    "y2 = accuracy_fixed_D[2]\n",
    "\n",
    "plt.plot(x, y0, label='|Σ| = {}'.format(n_constraints[0]))\n",
    "plt.plot(x, y1, label=\"|Σ| = {}\".format(n_constraints[1]))\n",
    "plt.plot(x, y2, label=\"|Σ| = {}\".format(n_constraints[2]))\n",
    "plt.ylim(ymax=1, ymin=.5)\n",
    "\n",
    "plt.title('accuracy vs. k for each |Σ| size',fontsize=15)\n",
    "plt.xlabel('k', fontsize=13)\n",
    "plt.ylabel('accuracy', fontsize=13)\n",
    "plt.legend(loc=4)\n",
    "plt.savefig('accuracy_constraints.png',format='png', dpi=320)\n",
    "plt.show()"
   ]
  }
 ],
 "metadata": {
  "kernelspec": {
   "display_name": "Python 3",
   "language": "python",
   "name": "python3"
  },
  "language_info": {
   "codemirror_mode": {
    "name": "ipython",
    "version": 3
   },
   "file_extension": ".py",
   "mimetype": "text/x-python",
   "name": "python",
   "nbconvert_exporter": "python",
   "pygments_lexer": "ipython3",
   "version": "3.8.8"
  }
 },
 "nbformat": 4,
 "nbformat_minor": 5
}
